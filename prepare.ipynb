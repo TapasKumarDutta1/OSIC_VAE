{
  "nbformat": 4,
  "nbformat_minor": 0,
  "metadata": {
    "colab": {
      "name": "prepare.ipynb",
      "provenance": [],
      "authorship_tag": "ABX9TyN2iiHjAm/QJTBQSz6zawiK",
      "include_colab_link": true
    },
    "kernelspec": {
      "name": "python3",
      "display_name": "Python 3"
    },
    "language_info": {
      "name": "python"
    }
  },
  "cells": [
    {
      "cell_type": "markdown",
      "metadata": {
        "id": "view-in-github",
        "colab_type": "text"
      },
      "source": [
        "<a href=\"https://colab.research.google.com/github/greyhound101/OSIC_VAE/blob/main/prepare.ipynb\" target=\"_parent\"><img src=\"https://colab.research.google.com/assets/colab-badge.svg\" alt=\"Open In Colab\"/></a>"
      ]
    },
    {
      "cell_type": "code",
      "metadata": {
        "id": "M88orWuv4uNK"
      },
      "source": [
        "from skimage.transform import resize\n",
        "import tensorflow as tf\n",
        "import glob\n",
        "import numpy as np\n",
        "class DataGenerator(tf.keras.utils.Sequence):\n",
        "  def __init__(self, patients, image_dimensions = (8,224 ,224 )):\n",
        "    self.patients       = patients              # array of labels\n",
        "    self.image_dimensions   = image_dimensions          \n",
        "\n",
        "  def __len__(self):\n",
        "    return len(self.patients )\n",
        "\n",
        "  def __getitem__(self, index):\n",
        "\t\t# selects indices of data for next batch\n",
        "    chosen = self.patients[index]\n",
        "    ls=[]\n",
        "    rng=glob.glob('/kaggle/input/*/train_'+str(chosen)+'/*.npy')\n",
        "#     print(rng[0])\n",
        "    file=rng[0].split('/')[3]\n",
        "    for i in range(len(rng)):\n",
        "        path='/kaggle/input/'+file+'/train_'+str(chosen)+'/'+str(i)+'.npy'\n",
        "        ls.append(np.load(path))\n",
        "        \n",
        "        \n",
        "        \n",
        "        \n",
        "        \n",
        "        \n",
        "    tot=np.stack(ls)\n",
        "    img=resize(tot, self.image_dimensions,\n",
        "               order=0, mode='edge', cval=0, clip=True,\n",
        "               preserve_range=True)\n",
        "    img=np.expand_dims(np.transpose(img,(1,2,0)),0)\n",
        "    img=np.expand_dims(img,-1)\n",
        "    img=(img-1866.778714141427)/389.8452359948779\n",
        "    return img,img"
      ],
      "execution_count": null,
      "outputs": []
    },
    {
      "cell_type": "code",
      "metadata": {
        "id": "yQVOUYW24v8b"
      },
      "source": [
        "import pandas as pd\n",
        "patients=[]\n",
        "for i in glob.glob('../input/*/train_*')+glob.glob('../input/*/test_*'):\n",
        "    patients.append(i.split('/')[-1].split('_')[-1])\n",
        "train=DataGenerator(patients)"
      ],
      "execution_count": null,
      "outputs": []
    },
    {
      "cell_type": "code",
      "metadata": {
        "id": "Ls1kaO6c4v5G"
      },
      "source": [
        "from tqdm import tqdm\n",
        "for en,i in tqdm(enumerate(patients)):\n",
        "    a=train[en]\n",
        "    np.save(i+'.npy',a[0])"
      ],
      "execution_count": null,
      "outputs": []
    }
  ]
}